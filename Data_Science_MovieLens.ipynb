{
  "nbformat": 4,
  "nbformat_minor": 0,
  "metadata": {
    "colab": {
      "name": "Data Science - MovieLens.ipynb",
      "provenance": [],
      "authorship_tag": "ABX9TyMprv9AVHqMTinrTVuYHEs/",
      "include_colab_link": true
    },
    "kernelspec": {
      "name": "python3",
      "display_name": "Python 3"
    },
    "language_info": {
      "name": "python"
    }
  },
  "cells": [
    {
      "cell_type": "markdown",
      "metadata": {
        "id": "view-in-github",
        "colab_type": "text"
      },
      "source": [
        "<a href=\"https://colab.research.google.com/github/RobertaHauser/Data-Science-MovieLens/blob/main/Data_Science_MovieLens.ipynb\" target=\"_parent\"><img src=\"https://colab.research.google.com/assets/colab-badge.svg\" alt=\"Open In Colab\"/></a>"
      ]
    },
    {
      "cell_type": "markdown",
      "metadata": {
        "id": "f10T91Z5c1rt"
      },
      "source": [
        "#Objetivo\n",
        "Análise dos dados disponibilizados pelo site https://grouplens.org/datasets/movielens/"
      ]
    },
    {
      "cell_type": "code",
      "metadata": {
        "id": "nQjNYy4JmDTQ"
      },
      "source": [
        "#Utilização da biblioteca \"Pandas\"\n",
        "import pandas as pd"
      ],
      "execution_count": null,
      "outputs": []
    },
    {
      "cell_type": "markdown",
      "metadata": {
        "id": "TlhW6uThgmGR"
      },
      "source": [
        "##Análise geral dos dados"
      ]
    },
    {
      "cell_type": "code",
      "metadata": {
        "id": "ChdlM5vucyCY"
      },
      "source": [
        "#Carregar arquivo \"rating.csv\" para \"notas\"\n",
        "notas=pd.read_csv('ratings.csv')"
      ],
      "execution_count": null,
      "outputs": []
    },
    {
      "cell_type": "code",
      "metadata": {
        "colab": {
          "base_uri": "https://localhost:8080/"
        },
        "id": "0dSwjQbU3tAp",
        "outputId": "30942801-187b-44dd-ab57-b7dd45d6170a"
      },
      "source": [
        "#São 100.836 registros e 4 colunas\n",
        "notas.shape"
      ],
      "execution_count": null,
      "outputs": [
        {
          "output_type": "execute_result",
          "data": {
            "text/plain": [
              "(100836, 4)"
            ]
          },
          "metadata": {},
          "execution_count": 18
        }
      ]
    },
    {
      "cell_type": "code",
      "metadata": {
        "colab": {
          "base_uri": "https://localhost:8080/",
          "height": 204
        },
        "id": "qGvyYCRUggqn",
        "outputId": "0cec06ab-08bb-4957-ef8f-ac2b0d41602f"
      },
      "source": [
        "#As informações apresentadas são: ID do usuário, ID do filme, nota e momento da classificação\n",
        "notas.head()"
      ],
      "execution_count": null,
      "outputs": [
        {
          "output_type": "execute_result",
          "data": {
            "text/html": [
              "<div>\n",
              "<style scoped>\n",
              "    .dataframe tbody tr th:only-of-type {\n",
              "        vertical-align: middle;\n",
              "    }\n",
              "\n",
              "    .dataframe tbody tr th {\n",
              "        vertical-align: top;\n",
              "    }\n",
              "\n",
              "    .dataframe thead th {\n",
              "        text-align: right;\n",
              "    }\n",
              "</style>\n",
              "<table border=\"1\" class=\"dataframe\">\n",
              "  <thead>\n",
              "    <tr style=\"text-align: right;\">\n",
              "      <th></th>\n",
              "      <th>userId</th>\n",
              "      <th>movieId</th>\n",
              "      <th>rating</th>\n",
              "      <th>timestamp</th>\n",
              "    </tr>\n",
              "  </thead>\n",
              "  <tbody>\n",
              "    <tr>\n",
              "      <th>0</th>\n",
              "      <td>1</td>\n",
              "      <td>1</td>\n",
              "      <td>4.0</td>\n",
              "      <td>964982703</td>\n",
              "    </tr>\n",
              "    <tr>\n",
              "      <th>1</th>\n",
              "      <td>1</td>\n",
              "      <td>3</td>\n",
              "      <td>4.0</td>\n",
              "      <td>964981247</td>\n",
              "    </tr>\n",
              "    <tr>\n",
              "      <th>2</th>\n",
              "      <td>1</td>\n",
              "      <td>6</td>\n",
              "      <td>4.0</td>\n",
              "      <td>964982224</td>\n",
              "    </tr>\n",
              "    <tr>\n",
              "      <th>3</th>\n",
              "      <td>1</td>\n",
              "      <td>47</td>\n",
              "      <td>5.0</td>\n",
              "      <td>964983815</td>\n",
              "    </tr>\n",
              "    <tr>\n",
              "      <th>4</th>\n",
              "      <td>1</td>\n",
              "      <td>50</td>\n",
              "      <td>5.0</td>\n",
              "      <td>964982931</td>\n",
              "    </tr>\n",
              "  </tbody>\n",
              "</table>\n",
              "</div>"
            ],
            "text/plain": [
              "   userId  movieId  rating  timestamp\n",
              "0       1        1     4.0  964982703\n",
              "1       1        3     4.0  964981247\n",
              "2       1        6     4.0  964982224\n",
              "3       1       47     5.0  964983815\n",
              "4       1       50     5.0  964982931"
            ]
          },
          "metadata": {},
          "execution_count": 19
        }
      ]
    },
    {
      "cell_type": "code",
      "metadata": {
        "colab": {
          "base_uri": "https://localhost:8080/",
          "height": 111
        },
        "id": "CHFzTiqVtX__",
        "outputId": "d9fc9d9e-f022-4414-8e0c-959dd0e6db17"
      },
      "source": [
        "#Para facilitar os títulos das colunas serão revisados\n",
        "\n",
        "notas.columns=[\"usuarioId\",\"filmeId\",\"nota\",\"momento\"]\n",
        "notas.head(2)"
      ],
      "execution_count": null,
      "outputs": [
        {
          "output_type": "execute_result",
          "data": {
            "text/html": [
              "<div>\n",
              "<style scoped>\n",
              "    .dataframe tbody tr th:only-of-type {\n",
              "        vertical-align: middle;\n",
              "    }\n",
              "\n",
              "    .dataframe tbody tr th {\n",
              "        vertical-align: top;\n",
              "    }\n",
              "\n",
              "    .dataframe thead th {\n",
              "        text-align: right;\n",
              "    }\n",
              "</style>\n",
              "<table border=\"1\" class=\"dataframe\">\n",
              "  <thead>\n",
              "    <tr style=\"text-align: right;\">\n",
              "      <th></th>\n",
              "      <th>usuarioId</th>\n",
              "      <th>filmeId</th>\n",
              "      <th>nota</th>\n",
              "      <th>momento</th>\n",
              "    </tr>\n",
              "  </thead>\n",
              "  <tbody>\n",
              "    <tr>\n",
              "      <th>0</th>\n",
              "      <td>1</td>\n",
              "      <td>1</td>\n",
              "      <td>4.0</td>\n",
              "      <td>964982703</td>\n",
              "    </tr>\n",
              "    <tr>\n",
              "      <th>1</th>\n",
              "      <td>1</td>\n",
              "      <td>3</td>\n",
              "      <td>4.0</td>\n",
              "      <td>964981247</td>\n",
              "    </tr>\n",
              "  </tbody>\n",
              "</table>\n",
              "</div>"
            ],
            "text/plain": [
              "   usuarioId  filmeId  nota    momento\n",
              "0          1        1   4.0  964982703\n",
              "1          1        3   4.0  964981247"
            ]
          },
          "metadata": {},
          "execution_count": 20
        }
      ]
    },
    {
      "cell_type": "code",
      "metadata": {
        "colab": {
          "base_uri": "https://localhost:8080/"
        },
        "id": "4rBC3u7Ys3cP",
        "outputId": "9043bae2-0397-4738-953b-3b8106dbb6c8"
      },
      "source": [
        "#Distribuição das notas (quantas vezes cada nota foi dada)\n",
        "notas.nota.value_counts()"
      ],
      "execution_count": null,
      "outputs": [
        {
          "output_type": "execute_result",
          "data": {
            "text/plain": [
              "4.0    26818\n",
              "3.0    20047\n",
              "5.0    13211\n",
              "3.5    13136\n",
              "4.5     8551\n",
              "2.0     7551\n",
              "2.5     5550\n",
              "1.0     2811\n",
              "1.5     1791\n",
              "0.5     1370\n",
              "Name: nota, dtype: int64"
            ]
          },
          "metadata": {},
          "execution_count": 21
        }
      ]
    },
    {
      "cell_type": "code",
      "metadata": {
        "colab": {
          "base_uri": "https://localhost:8080/"
        },
        "id": "CxdzykkM9Cm_",
        "outputId": "15141303-f87f-422a-874a-ebe0f22cc1d9"
      },
      "source": [
        "#Informação geral das notas\n",
        "notas.nota.describe()"
      ],
      "execution_count": null,
      "outputs": [
        {
          "output_type": "execute_result",
          "data": {
            "text/plain": [
              "count    100836.000000\n",
              "mean          3.501557\n",
              "std           1.042529\n",
              "min           0.500000\n",
              "25%           3.000000\n",
              "50%           3.500000\n",
              "75%           4.000000\n",
              "max           5.000000\n",
              "Name: nota, dtype: float64"
            ]
          },
          "metadata": {},
          "execution_count": 22
        }
      ]
    },
    {
      "cell_type": "code",
      "metadata": {
        "colab": {
          "base_uri": "https://localhost:8080/"
        },
        "id": "f-huz84F5I7h",
        "outputId": "52912721-50ac-4585-bfa6-6cf261a7c3d0"
      },
      "source": [
        "#Nota média\n",
        "print('Média: ',notas.nota.mean())\n",
        "print('Mediana: ',notas.nota.median())"
      ],
      "execution_count": null,
      "outputs": [
        {
          "output_type": "stream",
          "name": "stdout",
          "text": [
            "Média:  3.501556983616962\n",
            "Mediana:  3.5\n"
          ]
        }
      ]
    },
    {
      "cell_type": "code",
      "metadata": {
        "colab": {
          "base_uri": "https://localhost:8080/"
        },
        "id": "Kad4jykSFBBN",
        "outputId": "7d11034f-629e-4cef-9572-4036ec0f2c36"
      },
      "source": [
        "#Média das notas por filme\n",
        "notas.groupby('filmeId').nota.mean()"
      ],
      "execution_count": null,
      "outputs": [
        {
          "output_type": "execute_result",
          "data": {
            "text/plain": [
              "filmeId\n",
              "1         3.920930\n",
              "2         3.431818\n",
              "3         3.259615\n",
              "4         2.357143\n",
              "5         3.071429\n",
              "            ...   \n",
              "193581    4.000000\n",
              "193583    3.500000\n",
              "193585    3.500000\n",
              "193587    3.500000\n",
              "193609    4.000000\n",
              "Name: nota, Length: 9724, dtype: float64"
            ]
          },
          "metadata": {},
          "execution_count": 24
        }
      ]
    },
    {
      "cell_type": "code",
      "metadata": {
        "colab": {
          "base_uri": "https://localhost:8080/",
          "height": 298
        },
        "id": "pktgF4S45czU",
        "outputId": "7e62cc78-1af5-4048-c994-ec4a7490693f"
      },
      "source": [
        "#Histograma1\n",
        "notas.nota.plot(kind='hist')\n",
        "import matplotlib.pyplot as plt\n",
        "plt.title(\"Histograma nota média filmes\")"
      ],
      "execution_count": null,
      "outputs": [
        {
          "output_type": "execute_result",
          "data": {
            "text/plain": [
              "Text(0.5, 1.0, 'Histograma nota média filmes')"
            ]
          },
          "metadata": {},
          "execution_count": 33
        },
        {
          "output_type": "display_data",
          "data": {
            "image/png": "[encoded data removed]",
            "text/plain": [
              "<Figure size 432x288 with 1 Axes>"
            ]
          },
          "metadata": {
            "needs_background": "light"
          }
        }
      ]
    },
    {
      "cell_type": "code",
      "metadata": {
        "colab": {
          "base_uri": "https://localhost:8080/",
          "height": 386
        },
        "id": "5gj4nEw6GUHj",
        "outputId": "98235f22-5542-482e-8c56-f1c050fae143"
      },
      "source": [
        "#Histograma2\n",
        "media_por_filme=notas.groupby('filmeId').nota.mean()\n",
        "import seaborn as sns\n",
        "sns.displot(media_por_filme)"
      ],
      "execution_count": null,
      "outputs": [
        {
          "output_type": "execute_result",
          "data": {
            "text/plain": [
              "<seaborn.axisgrid.FacetGrid at 0x7fee6cddc290>"
            ]
          },
          "metadata": {},
          "execution_count": 35
        },
        {
          "output_type": "display_data",
          "data": {
            "image/png": "[encoded data removed]",
            "text/plain": [
              "<Figure size 360x360 with 1 Axes>"
            ]
          },
          "metadata": {
            "needs_background": "light"
          }
        }
      ]
    },
    {
      "cell_type": "code",
      "metadata": {
        "colab": {
          "base_uri": "https://localhost:8080/",
          "height": 386
        },
        "id": "Txts23tWHO1R",
        "outputId": "d82abd28-c403-4230-fdad-b8fcf5dd5d1b"
      },
      "source": [
        "#Histograma3 - Distribuição em 5 colunas\n",
        "sns.displot(media_por_filme, bins=5)"
      ],
      "execution_count": null,
      "outputs": [
        {
          "output_type": "execute_result",
          "data": {
            "text/plain": [
              "<seaborn.axisgrid.FacetGrid at 0x7fee6c5cbf50>"
            ]
          },
          "metadata": {},
          "execution_count": 36
        },
        {
          "output_type": "display_data",
          "data": {
            "image/png": "[encoded data removed]",
            "text/plain": [
              "<Figure size 360x360 with 1 Axes>"
            ]
          },
          "metadata": {
            "needs_background": "light"
          }
        }
      ]
    },
    {
      "cell_type": "code",
      "metadata": {
        "colab": {
          "base_uri": "https://localhost:8080/",
          "height": 350
        },
        "id": "UPpRNmO_6BLs",
        "outputId": "25089e9c-e743-4d5e-c29d-dfe39095a433"
      },
      "source": [
        "#Boxplot1\n",
        "sns.boxplot(notas.nota)"
      ],
      "execution_count": null,
      "outputs": [
        {
          "output_type": "stream",
          "name": "stderr",
          "text": [
            "/usr/local/lib/python3.7/dist-packages/seaborn/_decorators.py:43: FutureWarning: Pass the following variable as a keyword arg: x. From version 0.12, the only valid positional argument will be `data`, and passing other arguments without an explicit keyword will result in an error or misinterpretation.\n",
            "  FutureWarning\n"
          ]
        },
        {
          "output_type": "execute_result",
          "data": {
            "text/plain": [
              "<matplotlib.axes._subplots.AxesSubplot at 0x7fee6db7d890>"
            ]
          },
          "metadata": {},
          "execution_count": 26
        },
        {
          "output_type": "display_data",
          "data": {
            "image/png": "[encoded data removed]",
            "text/plain": [
              "<Figure size 432x288 with 1 Axes>"
            ]
          },
          "metadata": {
            "needs_background": "light"
          }
        }
      ]
    },
    {
      "cell_type": "code",
      "metadata": {
        "colab": {
          "base_uri": "https://localhost:8080/",
          "height": 486
        },
        "id": "EyVXSZsIHqEn",
        "outputId": "6f3fd5d9-e5c5-4cbe-f2ae-b65c9c4305f4"
      },
      "source": [
        "#Boxplo2\n",
        "plt.figure(figsize=(5,8))\n",
        "sns.boxplot(y=media_por_filme)"
      ],
      "execution_count": null,
      "outputs": [
        {
          "output_type": "execute_result",
          "data": {
            "text/plain": [
              "<matplotlib.axes._subplots.AxesSubplot at 0x7fee5eedfb50>"
            ]
          },
          "metadata": {},
          "execution_count": 39
        },
        {
          "output_type": "display_data",
          "data": {
            "image/png": "[encoded data removed]",
            "text/plain": [
              "<Figure size 360x576 with 1 Axes>"
            ]
          },
          "metadata": {
            "needs_background": "light"
          }
        }
      ]
    },
    {
      "cell_type": "markdown",
      "metadata": {
        "id": "24W2F8LGEe8n"
      },
      "source": [
        "##Filme ID=1 x Filme ID=2"
      ]
    },
    {
      "cell_type": "code",
      "metadata": {
        "colab": {
          "base_uri": "https://localhost:8080/"
        },
        "id": "Gq_9ml9yBLbO",
        "outputId": "25de825f-33d1-4997-850c-d845681dc69b"
      },
      "source": [
        "#Número de avaliações\n",
        "num_filme1=notas.query('filmeId==1')\n",
        "num_filme2=notas.query('filmeId==2')\n",
        "print('N.de avaliações filme1:',len(num_filme1),'e filme2:',len(num_filme2))"
      ],
      "execution_count": null,
      "outputs": [
        {
          "output_type": "stream",
          "name": "stdout",
          "text": [
            "N.de avaliações filme1: 215 e filme2: 110\n"
          ]
        }
      ]
    },
    {
      "cell_type": "code",
      "metadata": {
        "colab": {
          "base_uri": "https://localhost:8080/"
        },
        "id": "Ljhs8R8sT8WM",
        "outputId": "663718a0-84a6-427d-b7c5-0120cd4a898f"
      },
      "source": [
        "#Média das notas\n",
        "media_filme1=notas.query('filmeId==1').nota.mean()\n",
        "media_filme2=notas.query('filmeId==2').nota.mean()\n",
        "print('Média das notas filme1: %.2f'%media_filme1)\n",
        "print('Média das notas filme2: %.2f'%media_filme2)"
      ],
      "execution_count": null,
      "outputs": [
        {
          "output_type": "stream",
          "name": "stdout",
          "text": [
            "Média das notas filme1: 3.92\n",
            "Média das notas filme2: 3.43\n"
          ]
        }
      ]
    },
    {
      "cell_type": "code",
      "metadata": {
        "id": "qjPkl0CgE36z",
        "colab": {
          "base_uri": "https://localhost:8080/"
        },
        "outputId": "2aabafdb-846b-4b34-81a4-25173592c0ed"
      },
      "source": [
        "#Mediana das notas\n",
        "mediana_filme1=notas.query('filmeId==1').nota.median()\n",
        "mediana_filme2=notas.query('filmeId==2').nota.median()\n",
        "print(mediana_filme1)\n",
        "print(mediana_filme2)"
      ],
      "execution_count": null,
      "outputs": [
        {
          "output_type": "stream",
          "name": "stdout",
          "text": [
            "4.0\n",
            "3.5\n"
          ]
        }
      ]
    },
    {
      "cell_type": "code",
      "metadata": {
        "colab": {
          "base_uri": "https://localhost:8080/",
          "height": 574
        },
        "id": "dO3J7PRgiYv3",
        "outputId": "7dcf0d5b-9121-490e-82dd-cef12a0d0ea4"
      },
      "source": [
        "#Boxplot\n",
        "notas_filme1=notas.query('filmeId==1').nota\n",
        "notas_filme2=notas.query('filmeId==2').nota\n",
        "plt.boxplot([notas_filme1,notas_filme2])"
      ],
      "execution_count": null,
      "outputs": [
        {
          "output_type": "stream",
          "name": "stderr",
          "text": [
            "/usr/local/lib/python3.7/dist-packages/numpy/core/_asarray.py:83: VisibleDeprecationWarning: Creating an ndarray from ragged nested sequences (which is a list-or-tuple of lists-or-tuples-or ndarrays with different lengths or shapes) is deprecated. If you meant to do this, you must specify 'dtype=object' when creating the ndarray\n",
            "  return array(a, dtype, copy=False, order=order)\n"
          ]
        },
        {
          "output_type": "execute_result",
          "data": {
            "text/plain": [
              "{'boxes': [<matplotlib.lines.Line2D at 0x7fee5eee9b90>,\n",
              "  <matplotlib.lines.Line2D at 0x7fee5edd6d50>],\n",
              " 'caps': [<matplotlib.lines.Line2D at 0x7fee5ed873d0>,\n",
              "  <matplotlib.lines.Line2D at 0x7fee614476d0>,\n",
              "  <matplotlib.lines.Line2D at 0x7fee5edded10>,\n",
              "  <matplotlib.lines.Line2D at 0x7fee5ed25290>],\n",
              " 'fliers': [<matplotlib.lines.Line2D at 0x7fee5edd67d0>,\n",
              "  <matplotlib.lines.Line2D at 0x7fee5ed25d10>],\n",
              " 'means': [],\n",
              " 'medians': [<matplotlib.lines.Line2D at 0x7fee5edd6290>,\n",
              "  <matplotlib.lines.Line2D at 0x7fee5ed257d0>],\n",
              " 'whiskers': [<matplotlib.lines.Line2D at 0x7fee5eee9590>,\n",
              "  <matplotlib.lines.Line2D at 0x7fee614375d0>,\n",
              "  <matplotlib.lines.Line2D at 0x7fee5edde2d0>,\n",
              "  <matplotlib.lines.Line2D at 0x7fee5edde7d0>]}"
            ]
          },
          "metadata": {},
          "execution_count": 81
        },
        {
          "output_type": "display_data",
          "data": {
            "image/png": "[encoded data removed]",
            "text/plain": [
              "<Figure size 432x288 with 1 Axes>"
            ]
          },
          "metadata": {
            "needs_background": "light"
          }
        }
      ]
    },
    {
      "cell_type": "code",
      "metadata": {
        "id": "o9bDjQVGjoWE"
      },
      "source": [
        ""
      ],
      "execution_count": null,
      "outputs": []
    }
  ]
}